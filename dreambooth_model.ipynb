{
 "cells": [
  {
   "cell_type": "code",
   "execution_count": null,
   "metadata": {},
   "outputs": [],
   "source": [
    "!nvidia-smi"
   ]
  },
  {
   "cell_type": "code",
   "execution_count": null,
   "metadata": {},
   "outputs": [],
   "source": [
    "!pip install diffusers\n",
    "!pip install torch\n",
    "!pip install PIL\n",
    "!pip install accelerate\n",
    "!pip install transformers"
   ]
  },
  {
   "cell_type": "code",
   "execution_count": 5,
   "metadata": {},
   "outputs": [],
   "source": [
    "from PIL import Image\n",
    "\n",
    "def image_grid(imgs, rows, cols, resize=256):\n",
    "    assert len(imgs) == rows * cols\n",
    "\n",
    "    if resize is not None:\n",
    "        imgs = [img.resize((resize, resize)) for img in imgs]\n",
    "\n",
    "    w, h = imgs[0].size\n",
    "    grid_w, grid_h = cols * w, rows * h\n",
    "    grid = Image.new(\"RGB\", size=(grid_w, grid_h))\n",
    "\n",
    "    for i, img in enumerate(imgs):\n",
    "        x = i % cols * w\n",
    "        y = i // cols * h\n",
    "        grid.paste(img, box=(x, y))\n",
    "\n",
    "    return grid"
   ]
  },
  {
   "cell_type": "code",
   "execution_count": null,
   "metadata": {},
   "outputs": [],
   "source": [
    "!pip install -U autotrain-advanced"
   ]
  },
  {
   "cell_type": "code",
   "execution_count": 9,
   "metadata": {},
   "outputs": [],
   "source": [
    "import os\n",
    "os.environ['MODEL_NAME'] = f'stabilityai/stable-diffusion-xl-base-1.0'\n",
    "os.environ['DATA_DIR'] = f'./data/louis_pics'\n",
    "os.environ['PROJECT_NAME'] = f'Dreambooth_SDXL_MG'"
   ]
  },
  {
   "cell_type": "code",
   "execution_count": null,
   "metadata": {},
   "outputs": [],
   "source": [
    "import torch\n",
    "torch.cuda.empty_cache()\n",
    "!nvidia-smi\n"
   ]
  },
  {
   "cell_type": "code",
   "execution_count": null,
   "metadata": {},
   "outputs": [],
   "source": [
    "\n",
    "!autotrain dreambooth \\\n",
    "--model $MODEL_NAME \\\n",
    "--project-name $PROJECT_NAME \\\n",
    "--image-path $DATA_DIR \\\n",
    "--prompt \"A photo of Louis.\" \\\n",
    "--resolution 512 \\\n",
    "--batch-size 1 \\\n",
    "--num-steps 500 \\\n",
    "--gradient-accumulation 4 \\\n",
    "--lr 1e-4 \\\n",
    "--fp16"
   ]
  },
  {
   "cell_type": "code",
   "execution_count": null,
   "metadata": {},
   "outputs": [],
   "source": [
    "from diffusers import DiffusionPipeline, AutoencoderKL\n",
    "import torch\n",
    "\n",
    "vae = AutoencoderKL.from_pretrained(\n",
    "    \"madebyollin/sdxl-vae-fp16-fix\", \n",
    "    torch_dtype=torch.float16\n",
    ")\n",
    "pipe = DiffusionPipeline.from_pretrained(\n",
    "    \"stabilityai/stable-diffusion-xl-base-1.0\",\n",
    "    vae=vae,\n",
    "    torch_dtype=torch.float16,\n",
    "    variant=\"fp16\",\n",
    "    use_safetensors=True,\n",
    ")\n",
    "pipe.to(\"cuda\")\n",
    "\n",
    "pipe.load_lora_weights(\"Dreambooth_SDXL_MG/pytorch_lora_weights.safetensors\")\n",
    "prompt = \"portrait of mantagen, sun shining, photo realistic illustration by greg rutkowski, thomas kindkade, alphonse mucha, loish, norman rockwell.\"\n",
    "image = pipe(prompt=prompt, num_inference_steps=24, num_images_per_prompt=3)\n",
    "image_grid(image.images, 1, 3)\n"
   ]
  }
 ],
 "metadata": {
  "kernelspec": {
   "display_name": "Python 3 (ipykernel)",
   "language": "python",
   "name": "python3"
  },
  "language_info": {
   "codemirror_mode": {
    "name": "ipython",
    "version": 3
   },
   "file_extension": ".py",
   "mimetype": "text/x-python",
   "name": "python",
   "nbconvert_exporter": "python",
   "pygments_lexer": "ipython3",
   "version": "3.10.12"
  }
 },
 "nbformat": 4,
 "nbformat_minor": 4
}
